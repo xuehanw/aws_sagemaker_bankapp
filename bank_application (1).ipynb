{
 "cells": [
  {
   "cell_type": "markdown",
   "id": "efd50f53-58ca-44ef-b3dd-e72e97f81893",
   "metadata": {},
   "source": [
    "## 1. Importing necessary libraries"
   ]
  },
  {
   "cell_type": "code",
   "execution_count": 1,
   "id": "f999a120-b2ee-4aa7-bc1a-c68285620350",
   "metadata": {},
   "outputs": [
    {
     "name": "stderr",
     "output_type": "stream",
     "text": [
      "/home/ec2-user/anaconda3/envs/python3/lib/python3.10/site-packages/pandas/core/computation/expressions.py:21: UserWarning: Pandas requires version '2.8.4' or newer of 'numexpr' (version '2.7.3' currently installed).\n",
      "  from pandas.core.computation.check import NUMEXPR_INSTALLED\n"
     ]
    },
    {
     "name": "stdout",
     "output_type": "stream",
     "text": [
      "sagemaker.config INFO - Not applying SDK defaults from location: /etc/xdg/sagemaker/config.yaml\n",
      "sagemaker.config INFO - Not applying SDK defaults from location: /home/ec2-user/.config/sagemaker/config.yaml\n"
     ]
    }
   ],
   "source": [
    "import sagemaker\n",
    "import boto3 #access s3 bucket\n",
    "\n",
    "from sagemaker.amazon.amazon_estimator import image_uris\n",
    "from sagemaker.session import s3_input, Session"
   ]
  },
  {
   "cell_type": "markdown",
   "id": "ab4babc4-4b70-4cae-8a9f-ab4ddb613bcb",
   "metadata": {},
   "source": [
    "## 2. Create S3 bucket"
   ]
  },
  {
   "cell_type": "code",
   "execution_count": 2,
   "id": "59d50997-de37-4a1e-a6b3-17496b9f4c25",
   "metadata": {},
   "outputs": [
    {
     "name": "stdout",
     "output_type": "stream",
     "text": [
      "us-east-2\n"
     ]
    }
   ],
   "source": [
    "bucket_name = 'cora-bank-application-ex' # the name has to be globally unique\n",
    "my_region = boto3.session.Session().region_name # set the region of the instance\n",
    "print(my_region)"
   ]
  },
  {
   "cell_type": "code",
   "execution_count": 3,
   "id": "67567cc4-fb9a-4a77-ad31-955673451429",
   "metadata": {},
   "outputs": [
    {
     "name": "stdout",
     "output_type": "stream",
     "text": [
      "s3 error:  An error occurred (BucketAlreadyOwnedByYou) when calling the CreateBucket operation: Your previous request to create the named bucket succeeded and you already own it.\n"
     ]
    }
   ],
   "source": [
    "s3 = boto3.resource('s3')\n",
    "try:\n",
    "    if my_region == 'us-east-2':\n",
    "        s3.create_bucket(Bucket=bucket_name,\n",
    "                         CreateBucketConfiguration={'LocationConstraint': my_region}) # adding this b/c my region is not the default region `us-east-1`\n",
    "       \n",
    "    print('s3 bucket created successfully')\n",
    "except Exception as e:\n",
    "    print('s3 error: ',e)"
   ]
  },
  {
   "cell_type": "markdown",
   "id": "96d43ff4-9c59-42e4-b3c7-832761e56b46",
   "metadata": {},
   "source": [
    "###  --> set an output path where the trained model will be saved"
   ]
  },
  {
   "cell_type": "code",
   "execution_count": 4,
   "id": "33254881-288e-4676-8d42-ea640b36510c",
   "metadata": {},
   "outputs": [
    {
     "name": "stdout",
     "output_type": "stream",
     "text": [
      "s3://cora-bank-application-ex/xgboost-as-a-built-in-algo/output\n"
     ]
    }
   ],
   "source": [
    "prefix = 'xgboost-as-a-built-in-algo'\n",
    "output_path = 's3://{}/{}/output'.format(bucket_name,prefix)\n",
    "print(output_path)\n",
    "# by setting this, every model being trained based on time will be stored in proper folders in this path"
   ]
  },
  {
   "cell_type": "markdown",
   "id": "58c8dad5-efe8-47f0-8fdd-a58dfa6a6aec",
   "metadata": {},
   "source": [
    "## 3. Downloading the dataset and storing in s3"
   ]
  },
  {
   "cell_type": "code",
   "execution_count": 5,
   "id": "31a99f0f-a2ce-4e21-b614-09d5609ab41a",
   "metadata": {},
   "outputs": [
    {
     "name": "stdout",
     "output_type": "stream",
     "text": [
      "Success: downloaded bank_clean.csv\n",
      "Success: Data loaded into dataframe.\n"
     ]
    }
   ],
   "source": [
    "import pandas as pd\n",
    "import urllib\n",
    "try: \n",
    "    urllib.request.urlretrieve(\"https://d1.awsstatic.com/tmt/build-train-deploy-machine-learning-model-sagemaker/bank_clean.27f01fbbdf43271788427f3682996ae29ceca05d.csv\", \"bank_clean.csv\")\n",
    "    print('Success: downloaded bank_clean.csv')\n",
    "except Exception as e:\n",
    "    print('Data load error: ' ,e)\n",
    "try:\n",
    "    model_data = pd.read_csv('bank_clean.csv', index_col = 0)\n",
    "    print('Success: Data loaded into dataframe.')\n",
    "except Exception as e:\n",
    "    print('Data load error: ', e)\n"
   ]
  },
  {
   "cell_type": "markdown",
   "id": "5127c4ac-bdb6-4470-8f22-14d0b36cd00c",
   "metadata": {},
   "source": [
    "### --> Train Test Split"
   ]
  },
  {
   "cell_type": "code",
   "execution_count": 6,
   "id": "80cf1a29-41ce-4022-aa77-eae3ee4f96c8",
   "metadata": {},
   "outputs": [
    {
     "name": "stdout",
     "output_type": "stream",
     "text": [
      "(28831, 61) (12357, 61)\n"
     ]
    },
    {
     "name": "stderr",
     "output_type": "stream",
     "text": [
      "/home/ec2-user/anaconda3/envs/python3/lib/python3.10/site-packages/numpy/core/fromnumeric.py:59: FutureWarning: 'DataFrame.swapaxes' is deprecated and will be removed in a future version. Please use 'DataFrame.transpose' instead.\n",
      "  return bound(*args, **kwds)\n"
     ]
    }
   ],
   "source": [
    "import numpy as np\n",
    "train_data, test_data = np.split(model_data.sample(frac=1, random_state=1729), [int(0.7 * len(model_data))]) # 70% as train \n",
    "print(train_data.shape, test_data.shape)"
   ]
  },
  {
   "cell_type": "markdown",
   "id": "150e376c-1636-45cd-b594-9428cd1d3791",
   "metadata": {},
   "source": [
    "### --> Saving Train and Test into buckets"
   ]
  },
  {
   "cell_type": "code",
   "execution_count": 7,
   "id": "d6d899e0-1f7a-4854-a470-2eb72720a9a9",
   "metadata": {},
   "outputs": [],
   "source": [
    "import os\n",
    "# put the dependent column to the front\n",
    "pd.concat([train_data['y_yes'],train_data.drop(['y_no','y_yes'], axis=1)],axis=1).to_csv('train.csv', index=False, header=False)\n",
    "    # axis=1 means column wise operation rather than row-wise\n",
    "    #index=False, no indexes for rows \n",
    "boto3.Session().resource('s3').Bucket(bucket_name).Object(os.path.join(prefix, 'train/train.csv')).upload_file('train.csv')\n",
    "s3_input_train = sagemaker.TrainingInput(s3_data='s3://{}/{}/train'.format(bucket_name, prefix), content_type='csv')\n",
    "    #  telling SageMaker: Where the training data is in S3 & What format the data is in"
   ]
  },
  {
   "cell_type": "code",
   "execution_count": 8,
   "id": "b4945a2a-3d83-4fa3-82b4-d9472694a1c0",
   "metadata": {},
   "outputs": [],
   "source": [
    "pd.concat([test_data['y_yes'],test_data.drop(['y_no','y_yes'], axis=1)],axis=1).to_csv('test.csv', index=False, header=False)\n",
    "    \n",
    "boto3.Session().resource('s3').Bucket(bucket_name).Object(os.path.join(prefix, 'test/test.csv')).upload_file('test.csv')\n",
    "s3_input_test = sagemaker.TrainingInput(s3_data='s3://{}/{}/train'.format(bucket_name, prefix), content_type='csv')"
   ]
  },
  {
   "cell_type": "markdown",
   "id": "6c78c19f-7602-41e9-b631-c61b8a6e5183",
   "metadata": {},
   "source": [
    "## Build Model XGBoost - Inbuilt Algorithm"
   ]
  },
  {
   "cell_type": "code",
   "execution_count": 9,
   "id": "e959ffec-9f13-4b38-b440-bc0e78423098",
   "metadata": {},
   "outputs": [],
   "source": [
    "container= image_uris.retrieve(framework='xgboost',\n",
    "    region=boto3.Session().region_name,\n",
    "    version='1.0-1')\n",
    "# this line automatically looks for XGBoost image URI and builds an XGBoost container.\n",
    "# SageMaker provides pre-built images(blueprint/a packaged env) for common algorithms like XGBoost, Linear Learner, etc\n"
   ]
  },
  {
   "cell_type": "code",
   "execution_count": 10,
   "id": "9522542b-a8b1-47b3-8bb5-26387573ff2f",
   "metadata": {},
   "outputs": [],
   "source": [
    "# initialize hyperparameters\n",
    "hyperparameters = {\n",
    "        \"max_depth\":\"5\",\n",
    "        \"eta\":\"0.2\",\n",
    "        \"gamma\":\"4\",\n",
    "        \"min_child_weight\":\"6\",\n",
    "        \"subsample\":\"0.7\",\n",
    "        \"objective\":\"binary:logistic\",\n",
    "        \"num_round\":50\n",
    "        }\n",
    "     "
   ]
  },
  {
   "cell_type": "code",
   "execution_count": 11,
   "id": "13ecd7ce-88a8-4f6e-8111-af79fa678ecf",
   "metadata": {},
   "outputs": [],
   "source": [
    "# construct a SageMaker estimator that calls the xgboost-container\n",
    "from sagemaker.estimator import Estimator\n",
    "from sagemaker import get_execution_role\n",
    "estimator = Estimator(\n",
    "    image_uri=container,\n",
    "    role=get_execution_role(),\n",
    "    instance_count=1,\n",
    "    instance_type='ml.m5.2xlarge',\n",
    "    volume_size=5,  # in GB\n",
    "    max_run=300,\n",
    "    use_spot_instances=True,\n",
    "    max_wait=600,\n",
    "    output_path=output_path,\n",
    "    hyperparameters=hyperparameters\n",
    ")"
   ]
  },
  {
   "cell_type": "code",
   "execution_count": 12,
   "id": "6e875e2a-43bf-4006-85c8-3d8b6df4eb40",
   "metadata": {},
   "outputs": [
    {
     "name": "stderr",
     "output_type": "stream",
     "text": [
      "INFO:sagemaker:Creating training-job with name: sagemaker-xgboost-2025-07-02-21-38-03-832\n"
     ]
    },
    {
     "name": "stdout",
     "output_type": "stream",
     "text": [
      "2025-07-02 21:38:04 Starting - Starting the training job...\n",
      "2025-07-02 21:38:35 Downloading - Downloading input data...\n",
      "2025-07-02 21:38:51 Downloading - Downloading the training image...\n",
      "2025-07-02 21:39:31 Training - Training image download completed. Training in progress...\u001b[34m[2025-07-02 21:39:47.963 ip-10-0-236-231.us-east-2.compute.internal:7 INFO utils.py:27] RULE_JOB_STOP_SIGNAL_FILENAME: None\u001b[0m\n",
      "\u001b[34mINFO:sagemaker-containers:Imported framework sagemaker_xgboost_container.training\u001b[0m\n",
      "\u001b[34mINFO:sagemaker-containers:Failed to parse hyperparameter objective value binary:logistic to Json.\u001b[0m\n",
      "\u001b[34mReturning the value itself\u001b[0m\n",
      "\u001b[34mINFO:sagemaker-containers:No GPUs detected (normal if no gpus installed)\u001b[0m\n",
      "\u001b[34mINFO:sagemaker_xgboost_container.training:Running XGBoost Sagemaker in algorithm mode\u001b[0m\n",
      "\u001b[34mINFO:root:Determined delimiter of CSV input is ','\u001b[0m\n",
      "\u001b[34mINFO:root:Determined delimiter of CSV input is ','\u001b[0m\n",
      "\u001b[34mINFO:root:Determined delimiter of CSV input is ','\u001b[0m\n",
      "\u001b[34mINFO:root:Determined delimiter of CSV input is ','\u001b[0m\n",
      "\u001b[34mINFO:root:Single node training.\u001b[0m\n",
      "\u001b[34m[21:39:48] 28831x59 matrix with 1701029 entries loaded from /opt/ml/input/data/train?format=csv&label_column=0&delimiter=,\u001b[0m\n",
      "\u001b[34m[21:39:48] 28831x59 matrix with 1701029 entries loaded from /opt/ml/input/data/validation?format=csv&label_column=0&delimiter=,\u001b[0m\n",
      "\u001b[34m[2025-07-02 21:39:48.172 ip-10-0-236-231.us-east-2.compute.internal:7 INFO json_config.py:91] Creating hook from json_config at /opt/ml/input/config/debughookconfig.json.\u001b[0m\n",
      "\u001b[34m[2025-07-02 21:39:48.173 ip-10-0-236-231.us-east-2.compute.internal:7 INFO hook.py:201] tensorboard_dir has not been set for the hook. SMDebug will not be exporting tensorboard summaries.\u001b[0m\n",
      "\u001b[34m[2025-07-02 21:39:48.173 ip-10-0-236-231.us-east-2.compute.internal:7 INFO profiler_config_parser.py:102] User has disabled profiler.\u001b[0m\n",
      "\u001b[34m[2025-07-02 21:39:48.174 ip-10-0-236-231.us-east-2.compute.internal:7 INFO hook.py:255] Saving to /opt/ml/output/tensors\u001b[0m\n",
      "\u001b[34m[2025-07-02 21:39:48.174 ip-10-0-236-231.us-east-2.compute.internal:7 INFO state_store.py:77] The checkpoint config file /opt/ml/input/config/checkpointconfig.json does not exist.\u001b[0m\n",
      "\u001b[34mINFO:root:Debug hook created from config\u001b[0m\n",
      "\u001b[34mINFO:root:Train matrix has 28831 rows\u001b[0m\n",
      "\u001b[34mINFO:root:Validation matrix has 28831 rows\u001b[0m\n",
      "\u001b[34m[21:39:48] WARNING: /workspace/src/learner.cc:328: \u001b[0m\n",
      "\u001b[34mParameters: { num_round } might not be used.\n",
      "  This may not be accurate due to some parameters are only used in language bindings but\n",
      "  passed down to XGBoost core.  Or some parameters are not used but slip through this\n",
      "  verification. Please open an issue if you find above cases.\u001b[0m\n",
      "\u001b[34m[0]#011train-error:0.10079#011validation-error:0.10079\u001b[0m\n",
      "\u001b[34m[2025-07-02 21:39:48.219 ip-10-0-236-231.us-east-2.compute.internal:7 INFO hook.py:423] Monitoring the collections: metrics\u001b[0m\n",
      "\u001b[34m[2025-07-02 21:39:48.223 ip-10-0-236-231.us-east-2.compute.internal:7 INFO hook.py:486] Hook is writing from the hook with pid: 7\u001b[0m\n",
      "\u001b[34m[1]#011train-error:0.09968#011validation-error:0.09968\u001b[0m\n",
      "\u001b[34m[2]#011train-error:0.10017#011validation-error:0.10017\u001b[0m\n",
      "\u001b[34m[3]#011train-error:0.09989#011validation-error:0.09989\u001b[0m\n",
      "\u001b[34m[4]#011train-error:0.09996#011validation-error:0.09996\u001b[0m\n",
      "\u001b[34m[5]#011train-error:0.09906#011validation-error:0.09906\u001b[0m\n",
      "\u001b[34m[6]#011train-error:0.09930#011validation-error:0.09930\u001b[0m\n",
      "\u001b[34m[7]#011train-error:0.09951#011validation-error:0.09951\u001b[0m\n",
      "\u001b[34m[8]#011train-error:0.09920#011validation-error:0.09920\u001b[0m\n",
      "\u001b[34m[9]#011train-error:0.09871#011validation-error:0.09871\u001b[0m\n",
      "\u001b[34m[10]#011train-error:0.09868#011validation-error:0.09868\u001b[0m\n",
      "\u001b[34m[11]#011train-error:0.09868#011validation-error:0.09868\u001b[0m\n",
      "\u001b[34m[12]#011train-error:0.09854#011validation-error:0.09854\u001b[0m\n",
      "\u001b[34m[13]#011train-error:0.09892#011validation-error:0.09892\u001b[0m\n",
      "\u001b[34m[14]#011train-error:0.09850#011validation-error:0.09850\u001b[0m\n",
      "\u001b[34m[15]#011train-error:0.09844#011validation-error:0.09844\u001b[0m\n",
      "\u001b[34m[16]#011train-error:0.09857#011validation-error:0.09857\u001b[0m\n",
      "\u001b[34m[17]#011train-error:0.09799#011validation-error:0.09799\u001b[0m\n",
      "\u001b[34m[18]#011train-error:0.09816#011validation-error:0.09816\u001b[0m\n",
      "\u001b[34m[19]#011train-error:0.09857#011validation-error:0.09857\u001b[0m\n",
      "\u001b[34m[20]#011train-error:0.09830#011validation-error:0.09830\u001b[0m\n",
      "\u001b[34m[21]#011train-error:0.09826#011validation-error:0.09826\u001b[0m\n",
      "\u001b[34m[22]#011train-error:0.09847#011validation-error:0.09847\u001b[0m\n",
      "\u001b[34m[23]#011train-error:0.09833#011validation-error:0.09833\u001b[0m\n",
      "\u001b[34m[24]#011train-error:0.09812#011validation-error:0.09812\u001b[0m\n",
      "\u001b[34m[25]#011train-error:0.09812#011validation-error:0.09812\u001b[0m\n",
      "\u001b[34m[26]#011train-error:0.09774#011validation-error:0.09774\u001b[0m\n",
      "\u001b[34m[27]#011train-error:0.09781#011validation-error:0.09781\u001b[0m\n",
      "\u001b[34m[28]#011train-error:0.09781#011validation-error:0.09781\u001b[0m\n",
      "\u001b[34m[29]#011train-error:0.09778#011validation-error:0.09778\u001b[0m\n",
      "\u001b[34m[30]#011train-error:0.09781#011validation-error:0.09781\u001b[0m\n",
      "\u001b[34m[31]#011train-error:0.09771#011validation-error:0.09771\u001b[0m\n",
      "\u001b[34m[32]#011train-error:0.09743#011validation-error:0.09743\u001b[0m\n",
      "\u001b[34m[33]#011train-error:0.09753#011validation-error:0.09753\u001b[0m\n",
      "\u001b[34m[34]#011train-error:0.09767#011validation-error:0.09767\u001b[0m\n",
      "\u001b[34m[35]#011train-error:0.09757#011validation-error:0.09757\u001b[0m\n",
      "\u001b[34m[36]#011train-error:0.09757#011validation-error:0.09757\u001b[0m\n",
      "\u001b[34m[37]#011train-error:0.09736#011validation-error:0.09736\u001b[0m\n",
      "\u001b[34m[38]#011train-error:0.09750#011validation-error:0.09750\u001b[0m\n",
      "\u001b[34m[39]#011train-error:0.09733#011validation-error:0.09733\u001b[0m\n",
      "\u001b[34m[40]#011train-error:0.09705#011validation-error:0.09705\u001b[0m\n",
      "\u001b[34m[41]#011train-error:0.09701#011validation-error:0.09701\u001b[0m\n",
      "\u001b[34m[42]#011train-error:0.09712#011validation-error:0.09712\u001b[0m\n",
      "\u001b[34m[43]#011train-error:0.09698#011validation-error:0.09698\u001b[0m\n",
      "\u001b[34m[44]#011train-error:0.09733#011validation-error:0.09733\u001b[0m\n",
      "\u001b[34m[45]#011train-error:0.09736#011validation-error:0.09736\u001b[0m\n",
      "\u001b[34m[46]#011train-error:0.09746#011validation-error:0.09746\u001b[0m\n",
      "\u001b[34m[47]#011train-error:0.09736#011validation-error:0.09736\u001b[0m\n",
      "\u001b[34m[48]#011train-error:0.09712#011validation-error:0.09712\u001b[0m\n",
      "\u001b[34m[49]#011train-error:0.09712#011validation-error:0.09712\u001b[0m\n",
      "\n",
      "2025-07-02 21:40:04 Uploading - Uploading generated training model\n",
      "2025-07-02 21:40:04 Completed - Training job completed\n",
      "Training seconds: 89\n",
      "Billable seconds: 36\n",
      "Managed Spot Training savings: 59.6%\n"
     ]
    }
   ],
   "source": [
    "estimator.fit({'train':s3_input_train, 'validation':s3_input_test})"
   ]
  },
  {
   "cell_type": "markdown",
   "id": "0076f978-ebe8-45ae-bf57-5f5d1b86add9",
   "metadata": {},
   "source": [
    "## Deploy the Ml Model + Prediction"
   ]
  },
  {
   "cell_type": "code",
   "execution_count": 13,
   "id": "7ab08e57-50ef-4372-9bf4-a759b40d3902",
   "metadata": {},
   "outputs": [
    {
     "name": "stderr",
     "output_type": "stream",
     "text": [
      "INFO:sagemaker:Creating model with name: sagemaker-xgboost-2025-07-02-21-53-52-014\n",
      "INFO:sagemaker:Creating endpoint-config with name sagemaker-xgboost-2025-07-02-21-53-52-014\n",
      "INFO:sagemaker:Creating endpoint with name sagemaker-xgboost-2025-07-02-21-53-52-014\n"
     ]
    },
    {
     "name": "stdout",
     "output_type": "stream",
     "text": [
      "------!"
     ]
    }
   ],
   "source": [
    "xgb_predictor = estimator.deploy(initial_instance_count=1, instance_type='ml.m4.xlarge')"
   ]
  },
  {
   "cell_type": "code",
   "execution_count": 18,
   "id": "ce125e2a-af09-4eef-af20-fcc14214b177",
   "metadata": {},
   "outputs": [
    {
     "name": "stdout",
     "output_type": "stream",
     "text": [
      "(12357,)\n"
     ]
    }
   ],
   "source": [
    "from sagemaker.serializers import CSVSerializer\n",
    "test_data_array = test_data.drop(['y_no','y_yes'], axis=1).values\n",
    "\n",
    "xgb_predictor.content_type = 'text/csv'  # Tells SageMaker to expect input as CSV-formatted text.\n",
    "xgb_predictor.serializer = CSVSerializer()\n",
    "\n",
    "predictions= xgb_predictor.predict(test_data_array).decode('utf-8')    #str output\n",
    "predictions_array= np.fromstring(predictions[1:], sep=',') # turn the prediction into an array\n",
    "# in some cases, it might contain a leading newline (\\n) or extra character, like:'\\n0.1,0.9,0.2,0.8'\n",
    "print(predictions_array.shape)"
   ]
  },
  {
   "cell_type": "markdown",
   "id": "38186f4d-3e7a-44e9-ad77-4a73f4451b43",
   "metadata": {},
   "source": [
    "### --> Confusion Matrix"
   ]
  },
  {
   "cell_type": "code",
   "execution_count": 19,
   "id": "3e4b8c28-9c7c-4e0a-ada8-b4a5030bbce5",
   "metadata": {},
   "outputs": [
    {
     "name": "stdout",
     "output_type": "stream",
     "text": [
      "\n",
      "Overall Classification Rate: 89.7%\n",
      "\n",
      "Predicted      No Purchase    Purchase\n",
      "Observed\n",
      "No Purchase    91% (10785)    34% (151)\n",
      "Purchase        9% (1124)     66% (297) \n",
      "\n"
     ]
    }
   ],
   "source": [
    "cm = pd.crosstab(index=test_data['y_yes'], columns=np.round(predictions_array), rownames=['Observed'], colnames=['Predicted'])\n",
    "tn = cm.iloc[0,0]; fn = cm.iloc[1,0]; tp = cm.iloc[1,1]; fp = cm.iloc[0,1]; p = (tp+tn)/(tp+tn+fp+fn)*100\n",
    "print(\"\\n{0:<20}{1:<4.1f}%\\n\".format(\"Overall Classification Rate: \", p))\n",
    "print(\"{0:<15}{1:<15}{2:>8}\".format(\"Predicted\", \"No Purchase\", \"Purchase\"))\n",
    "print(\"Observed\")\n",
    "print(\"{0:<15}{1:<2.0f}% ({2:<}){3:>6.0f}% ({4:<})\".format(\"No Purchase\", tn/(tn+fn)*100,tn, fp/(tp+fp)*100, fp))\n",
    "print(\"{0:<16}{1:<1.0f}% ({2:<}){3:>7.0f}% ({4:<}) \\n\".format(\"Purchase\", fn/(tn+fn)*100,fn, tp/(tp+fp)*100, tp))\n",
    "     "
   ]
  },
  {
   "cell_type": "markdown",
   "id": "86ea7454-486a-49be-8b7d-205596ae3b0f",
   "metadata": {},
   "source": [
    "## Delete the Endpoint"
   ]
  },
  {
   "cell_type": "code",
   "execution_count": 23,
   "id": "a80b1276-534d-444f-99b1-8bd4f257cf79",
   "metadata": {},
   "outputs": [
    {
     "name": "stderr",
     "output_type": "stream",
     "text": [
      "INFO:sagemaker:Deleting endpoint with name: sagemaker-xgboost-2025-07-02-21-53-52-014\n"
     ]
    },
    {
     "name": "stdout",
     "output_type": "stream",
     "text": [
      "Could not delete endpoint: An error occurred (ValidationException) when calling the DeleteEndpoint operation: Could not find endpoint \"sagemaker-xgboost-2025-07-02-21-53-52-014\".\n"
     ]
    },
    {
     "data": {
      "text/plain": [
       "[{'ResponseMetadata': {'RequestId': '3E46D9HYH55F3Z10',\n",
       "   'HostId': 'KpLGFFXhCol58IcBsEp3zlkljnrwVJ7Yd3Kqv8WWUKiuDYITGiNboJu7rzwtn3gie3XWMKgASto=',\n",
       "   'HTTPStatusCode': 200,\n",
       "   'HTTPHeaders': {'x-amz-id-2': 'KpLGFFXhCol58IcBsEp3zlkljnrwVJ7Yd3Kqv8WWUKiuDYITGiNboJu7rzwtn3gie3XWMKgASto=',\n",
       "    'x-amz-request-id': '3E46D9HYH55F3Z10',\n",
       "    'date': 'Wed, 02 Jul 2025 22:29:23 GMT',\n",
       "    'connection': 'close',\n",
       "    'content-type': 'application/xml',\n",
       "    'transfer-encoding': 'chunked',\n",
       "    'server': 'AmazonS3'},\n",
       "   'RetryAttempts': 0},\n",
       "  'Deleted': [{'Key': 'xgboost-as-a-built-in-algo/output/sagemaker-xgboost-2025-07-02-21-38-03-832/debug-output/claim.smd'},\n",
       "   {'Key': 'xgboost-as-a-built-in-algo/output/sagemaker-xgboost-2025-07-02-21-38-03-832/debug-output/index/000000000/000000000010_worker_0.json'},\n",
       "   {'Key': 'xgboost-as-a-built-in-algo/output/sagemaker-xgboost-2025-07-02-21-38-03-832/profiler-output/system/training_job_end.ts'},\n",
       "   {'Key': 'xgboost-as-a-built-in-algo/output/sagemaker-xgboost-2025-07-02-21-38-03-832/debug-output/events/000000000030/000000000030_worker_0.tfevents'},\n",
       "   {'Key': 'xgboost-as-a-built-in-algo/output/sagemaker-xgboost-2025-07-02-21-38-03-832/debug-output/index/000000000/000000000030_worker_0.json'},\n",
       "   {'Key': 'xgboost-as-a-built-in-algo/output/sagemaker-xgboost-2025-07-02-21-38-03-832/profiler-output/system/incremental/2025070221/1751492340.algo-1.json'},\n",
       "   {'Key': 'xgboost-as-a-built-in-algo/output/sagemaker-xgboost-2025-07-02-21-38-03-832/debug-output/training_job_end.ts'},\n",
       "   {'Key': 'xgboost-as-a-built-in-algo/output/sagemaker-xgboost-2025-07-02-21-38-03-832/debug-output/events/000000000040/000000000040_worker_0.tfevents'},\n",
       "   {'Key': 'xgboost-as-a-built-in-algo/output/sagemaker-xgboost-2025-07-02-21-38-03-832/debug-output/index/000000000/000000000040_worker_0.json'},\n",
       "   {'Key': 'xgboost-as-a-built-in-algo/output/sagemaker-xgboost-2025-07-02-21-38-03-832/debug-output/events/000000000000/000000000000_worker_0.tfevents'},\n",
       "   {'Key': 'xgboost-as-a-built-in-algo/output/sagemaker-xgboost-2025-07-02-21-38-03-832/output/model.tar.gz'},\n",
       "   {'Key': 'xgboost-as-a-built-in-algo/output/sagemaker-xgboost-2025-07-02-21-38-03-832/profiler-output/framework/training_job_end.ts'},\n",
       "   {'Key': 'xgboost-as-a-built-in-algo/output/sagemaker-xgboost-2025-07-02-21-38-03-832/profiler-output/system/incremental/2025070221/1751492280.algo-1.json'},\n",
       "   {'Key': 'xgboost-as-a-built-in-algo/test/test.csv'},\n",
       "   {'Key': 'xgboost-as-a-built-in-algo/output/sagemaker-xgboost-2025-07-02-21-38-03-832/debug-output/collections/000000000/worker_0_collections.json'},\n",
       "   {'Key': 'xgboost-as-a-built-in-algo/output/sagemaker-xgboost-2025-07-02-21-38-03-832/debug-output/events/000000000010/000000000010_worker_0.tfevents'},\n",
       "   {'Key': 'xgboost-as-a-built-in-algo/output/sagemaker-xgboost-2025-07-02-21-38-03-832/debug-output/index/000000000/000000000000_worker_0.json'},\n",
       "   {'Key': 'xgboost-as-a-built-in-algo/output/sagemaker-xgboost-2025-07-02-21-38-03-832/debug-output/events/000000000020/000000000020_worker_0.tfevents'},\n",
       "   {'Key': 'xgboost-as-a-built-in-algo/train/train.csv'},\n",
       "   {'Key': 'xgboost-as-a-built-in-algo/output/sagemaker-xgboost-2025-07-02-21-38-03-832/debug-output/index/000000000/000000000020_worker_0.json'}]}]"
      ]
     },
     "execution_count": 23,
     "metadata": {},
     "output_type": "execute_result"
    }
   ],
   "source": [
    "# sagemaker.Session().delete_endpoint(xgb_predictor.endpoint)\n",
    "\n",
    "session = Session()\n",
    "try:\n",
    "    session.delete_endpoint(endpoint_name=xgb_predictor.endpoint_name)\n",
    "    print(f\"Deleted endpoint: {xgb_predictor.endpoint_name}\")\n",
    "except Exception as e:\n",
    "    print(f\"Could not delete endpoint: {e}\")\n",
    "    \n",
    "bucket_to_delete= boto3.resource('s3').Bucket(bucket_name)\n",
    "bucket_to_delete.objects.all().delete()"
   ]
  },
  {
   "cell_type": "code",
   "execution_count": null,
   "id": "7907e0d3-b22e-4053-a6eb-59f807938bb1",
   "metadata": {},
   "outputs": [],
   "source": []
  }
 ],
 "metadata": {
  "kernelspec": {
   "display_name": "conda_python3",
   "language": "python",
   "name": "conda_python3"
  },
  "language_info": {
   "codemirror_mode": {
    "name": "ipython",
    "version": 3
   },
   "file_extension": ".py",
   "mimetype": "text/x-python",
   "name": "python",
   "nbconvert_exporter": "python",
   "pygments_lexer": "ipython3",
   "version": "3.10.18"
  }
 },
 "nbformat": 4,
 "nbformat_minor": 5
}
